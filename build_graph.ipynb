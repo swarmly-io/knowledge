{
 "cells": [
  {
   "cell_type": "code",
   "execution_count": 1,
   "id": "178094ea",
   "metadata": {
    "ExecuteTime": {
     "end_time": "2023-05-24T06:45:26.155250400Z",
     "start_time": "2023-05-24T06:45:22.261489400Z"
    }
   },
   "outputs": [],
   "source": [
    "import os\n",
    "import sys\n",
    "# you probably don't need this, but I had trouble importing packages because I used a virtual env\n",
    "sys.path.append(os.path.join(os.getcwd(), 'venv\\Lib\\site-packages'))\n",
    "\n",
    "from dotenv import load_dotenv\n",
    "from knowledge.elastic_client import ElasticConfig\n",
    "import networkx as nx\n",
    "import matplotlib.pyplot as plt\n",
    "\n",
    "from utils import bfs_subgraph, dfs_paths, graph_from_paths"
   ]
  },
  {
   "cell_type": "code",
   "execution_count": 2,
   "id": "40296c4a",
   "metadata": {
    "ExecuteTime": {
     "end_time": "2023-05-24T06:45:35.071459300Z",
     "start_time": "2023-05-24T06:45:35.049033Z"
    }
   },
   "outputs": [],
   "source": [
    "class GraphComposer:\n",
    "    def __init__(self, graph_dict, linking_instructions, join_graphs, lenses):\n",
    "        self.graph_dict = graph_dict\n",
    "        self.linking_instructions = linking_instructions\n",
    "        self.composed_graph = nx.DiGraph()\n",
    "        self.join_graphs = join_graphs\n",
    "        self.lenses = lenses\n",
    "\n",
    "    def compose_graphs(self):\n",
    "        for linking_instruction in self.linking_instructions:\n",
    "            self._link_graphs(linking_instruction)\n",
    "\n",
    "        for source_name, f_graph in self.join_graphs['sources']:\n",
    "            self._one_to_many_joins(source_name, f_graph)\n",
    "\n",
    "\n",
    "    def apply_lenses(self, lense_names, graph):\n",
    "        # create a sub graph based on the lense\n",
    "        G: nx.DiGraph = graph or self.composed_graph\n",
    "        nodes = G.nodes(data=True)\n",
    "        new_nodes = []\n",
    "        for lense_name in lense_names:\n",
    "            lense = self.lenses[lense_name]\n",
    "            for n in nodes:\n",
    "                if lense['source'](n):\n",
    "                    if lense['condition'](n):\n",
    "                        new_nodes.append(n)              \n",
    "                else:\n",
    "                    new_nodes.append(n)\n",
    "        \n",
    "        T = nx.DiGraph()\n",
    "        for n in new_nodes:\n",
    "            T.add_node(n[0], **n[1])\n",
    "            \n",
    "        filtered_edges = [(u, v) for (u, v) in G.edges() if u in T.nodes() and v in T.nodes()]\n",
    "        T.add_edges_from(filtered_edges)\n",
    "        return T\n",
    "\n",
    "\n",
    "    def get_composed_graph(self):\n",
    "        return self.composed_graph\n",
    "\n",
    "\n",
    "    def _one_to_many_joins(self, source_name, f_graph):\n",
    "        for n in f_graph.nodes(data=True):\n",
    "            if not n[1].get('joins'):\n",
    "                continue\n",
    "\n",
    "            joins = n[1]['joins']\n",
    "            for join in joins:\n",
    "                self._join_graph(source_name, n, join)\n",
    "\n",
    "\n",
    "    def _join_graph(self, source_name, n, join):\n",
    "        index, filter_fn, sub_joins, graph = self._get_join_info(join)\n",
    "        if not graph:\n",
    "            return\n",
    "\n",
    "        filtered_nodes = [node for node in graph.nodes(data=True) if filter_fn(node[1]['props'])]\n",
    "        for nt in filtered_nodes:\n",
    "            new_source = source_name + \":\" + n[0]\n",
    "            new_target = index + \":\" + nt[0]\n",
    "            self.composed_graph.add_edge(new_source, new_target)\n",
    "        \n",
    "        if sub_joins:\n",
    "            new_index, filter_fn, _, graph = self._get_join_info(sub_joins)\n",
    "            new_filtered_nodes = [node for node in graph.nodes(data=True) if filter_fn(node[1]['props'])]\n",
    "            for nt in filtered_nodes:\n",
    "                for nft in new_filtered_nodes:\n",
    "                        new_source = index + \":\" + nt[0]\n",
    "                        new_target = new_index + \":\" + nft[0]\n",
    "                        self.composed_graph.add_edge(new_source, new_target)\n",
    "\n",
    "    \n",
    "    def _get_join_info(self, join):\n",
    "        index = join['index']\n",
    "        filter_fn = join['filter']\n",
    "        sub_joins = join.get('join')\n",
    "        graph = self.join_graphs['on'].get(index)\n",
    "        return index,filter_fn,sub_joins,graph\n",
    "\n",
    "\n",
    "    def _link_graphs(self, linking_instruction):\n",
    "        target = linking_instruction['target']\n",
    "        source = linking_instruction['source']\n",
    "        link = linking_instruction['link']\n",
    "        target_graph = self.graph_dict[target]\n",
    "        source_graph = self.graph_dict[source]\n",
    "        \n",
    "        for source_node in source_graph.nodes(data=True):\n",
    "            target_nodes = filter(lambda x: x if link(source_node[1], x[1]) else None, target_graph.nodes(data=True))\n",
    "            for target_node in target_nodes:\n",
    "                new_source = source + \":\" + source_node[0]\n",
    "                new_target = target + \":\" + target_node[0]\n",
    "                source_data = { **source_node[1], 'source': source }\n",
    "                target_data = { **target_node[1], 'source': target }\n",
    "                self.composed_graph.add_node(new_source, **source_data)\n",
    "                self.composed_graph.add_node(new_target, **target_data)\n",
    "                \n",
    "                self.composed_graph.add_edge(new_source, new_target)"
   ]
  },
  {
   "cell_type": "code",
   "execution_count": 3,
   "id": "da876544",
   "metadata": {
    "ExecuteTime": {
     "end_time": "2023-05-24T06:45:44.953072400Z",
     "start_time": "2023-05-24T06:45:44.918079900Z"
    }
   },
   "outputs": [],
   "source": [
    "current_env = 'remote' if os.path.exists('.env') else 'local'\n",
    "\n",
    "if current_env == 'local':\n",
    "    dotenv_path = '.env.local'\n",
    "else:\n",
    "    dotenv_path = '.env'\n",
    "\n",
    "load_dotenv(dotenv_path)\n",
    "\n",
    "esc = ElasticConfig(\n",
    "    https=current_env != 'local',\n",
    "    username=os.getenv('ELASTIC_USERNAME'),\n",
    "    password=os.getenv('ELASTIC_PASSWORD'),\n",
    "    url=os.getenv('ELASTIC_URL'),\n",
    "    port=os.getenv('ELASTIC_PORT'))"
   ]
  },
  {
   "cell_type": "code",
   "execution_count": 4,
   "id": "ac41b9d2",
   "metadata": {},
   "outputs": [],
   "source": [
    "actions_graph = nx.Graph()\n",
    "# todo action -> item (pickaxe) -> block\n",
    "mine_filters = [\n",
    "    {'index': 'items', 'filter': lambda x: 'pickaxe' in x.get('name'), \n",
    "     'join': {'index': 'blocks', 'filter': lambda x: x.get('material') == 'mineable/pickaxe' } }]\n",
    "actions_graph.add_node('mine', props = { 'name': 'mine' }, joins=mine_filters)\n",
    "actions_graph.add_node('collect', props = { 'name': 'collect' }, joins=[{ 'index': 'items', 'filter': lambda x: x } ])\n",
    "actions_graph.add_node('fight', props = { 'name':'fight' }, joins=[{'index': 'entities', 'filter': lambda x: x['type'] == 'Hostile mobs'} ])\n",
    "actions_graph.add_node('hunt', props = { 'name':'hunt' }, joins=[{ 'index': 'entities', 'filter': lambda x: x['type'] == 'Passive mobs' }])\n",
    "actions_graph.add_node('eat', props = { 'name':'eat' }, joins=[{ 'index': 'foods', 'filter': lambda x: x['food_points'] > 0 }])\n",
    "actions_graph.add_node('craft', props = { 'name':'craft' }, joins=[{'index': 'recipe', 'filter': lambda x: x }])\n",
    "actions_graph.add_node('trade', props={ 'name': 'trade' }, joins=[{ 'index': 'trade', 'filter': lambda x: 'bid' in x['name'] or 'ask' in x['name'] }])\n",
    "\n",
    "agent_graph = nx.Graph()\n",
    "agent_graph.add_node('bill', props={ 'actions': ['mine', 'collect', 'fight', 'hunt', 'eat', 'craft', 'smelt', 'trade'] })\n",
    "\n",
    "inventory_graph = nx.Graph()\n",
    "inventory_graph.add_node('wooden_pickaxe', props = { 'name': 'wooden_pickaxe', 'quantity': 1 })\n",
    "\n",
    "goals_graph = nx.Graph()\n",
    "goals_graph.add_node('make_money', props={'name': 'make_money', 'objective': ['money'] })\n",
    "\n",
    "trade_graph = nx.Graph()\n",
    "trade_graph.add_node('bid', props={ 'name': 'bid' }, joins=[{'index': 'trade', 'filter': lambda x: 'debit' == x['name'] }]) # money -> debit -> all items\n",
    "trade_graph.add_node('ask', props={ 'name': 'ask' }, joins=[{'index': 'trade', 'filter': lambda x: 'credit' == x['name']  }]) # inventory items -> credit -> money\n",
    "trade_graph.add_node('debit', props={'name': 'debit' }, joins=[{ 'index': 'items', 'filter': lambda x: x } ]) \n",
    "trade_graph.add_node('credit', props={'name': 'credit' }, joins=[{ 'index': 'inventory', 'filter': lambda x: x }]) # could be , { 'index': 'trade', 'filter': lambda x: 'money' in x['name'] }\n",
    "trade_graph.add_node('money', props={'name': 'money' }, joins=[{ 'index': 'trade', 'filter': lambda x: 'debit' == x['name'] or 'credit' == x['name'] } ])"
   ]
  },
  {
   "cell_type": "code",
   "execution_count": 12,
   "id": "6fa477cd",
   "metadata": {
    "ExecuteTime": {
     "end_time": "2023-05-24T06:51:01.525253700Z",
     "start_time": "2023-05-24T06:51:00.077579200Z"
    }
   },
   "outputs": [],
   "source": [
    "from knowledge.graph.load import get_graph_dict\n",
    "\n",
    "def ins(x):\n",
    "    print(x)\n",
    "    return x\n",
    "\n",
    "linkings = [\n",
    "    {\n",
    "        'source': 'blocks',\n",
    "        'target': 'items',\n",
    "        'link': lambda b, i: i['props']['name'] in [x['name'] for x in b['props']['drops']]\n",
    "    },\n",
    "    {\n",
    "        'source': 'blocks',\n",
    "        'target': 'items',\n",
    "        'link': lambda b, i: i['props']['name'] in [x['name'] for x in b['props']['requires']]\n",
    "    },\n",
    "    {\n",
    "        'source': 'items',\n",
    "        'target': 'foods',\n",
    "        'link': lambda s, t: s['props']['name'] == t['props']['name'],\n",
    "    },\n",
    "    {\n",
    "        'source': 'entities',\n",
    "        'target': 'entity_loot',\n",
    "        'link': lambda e, l: e['props']['name'] == l['props']['entity']\n",
    "    },\n",
    "    {\n",
    "        'source': 'entity_loot',\n",
    "        'target': 'items',\n",
    "        'link': lambda el, i: i['props']['name'] in [x['item'] for x in el['props']['drops']]\n",
    "    },\n",
    "    {\n",
    "        'source': 'items',\n",
    "        'target': 'smelting',\n",
    "        'link': lambda i, s: i['props']['name'] == s['props']['result']\n",
    "    },\n",
    "    # this one is quite complicated\n",
    "    # {\n",
    "    #     'source': 'smelting',\n",
    "    #     'target': 'items',\n",
    "    #     'link': lambda s, i: i['props']['name'] in ins(s['props']['ingredient']['item'])\n",
    "    # },\n",
    "    {\n",
    "        'source': 'items',\n",
    "        'target': 'recipes',\n",
    "        'link': lambda i, r: i['props']['name'] in [x['provides']['name'] for x in r['props']['items']]\n",
    "    },\n",
    "    {\n",
    "        'source': 'recipes',\n",
    "        'target': 'items',\n",
    "        'link': lambda r, i: i['props']['name'] in [z['name'] for x in r['props']['items'] for z in x['needs']]\n",
    "    },\n",
    "    {\n",
    "        'source': 'agent',\n",
    "        'target': 'goals',\n",
    "        'link': lambda s, t: True # all goals are linked to all actions\n",
    "    },\n",
    "    {\n",
    "        'source': 'goals',\n",
    "        'target': 'actions',\n",
    "        'link': lambda s, t: True # all goals are linked to all actions\n",
    "        # todo get agent actions t['props']['name'] in s['props']['actions']\n",
    "    },\n",
    "]\n",
    "\n",
    "graphs = get_graph_dict(esc)\n",
    "graphs['actions'] = actions_graph\n",
    "graphs['agent'] = agent_graph\n",
    "graphs['inventory'] = inventory_graph\n",
    "graphs['goals'] = goals_graph\n",
    "graphs['trade'] = trade_graph\n",
    "\n",
    "one_to_many_join_graphs = { \n",
    "    'sources': [('actions', actions_graph), ('trade', trade_graph)], \n",
    "    'on': graphs \n",
    "}\n",
    "\n",
    "def lens(item):\n",
    "    if not item[1].get('source'):\n",
    "        return False\n",
    "    return 'items' in item[1]['source']\n",
    "\n",
    "lenses = {\n",
    "    'only_inventory_mining_items': { \n",
    "        #'source': lambda x: 'items' in x[1]['source'], \n",
    "        'source': lambda x: lens(x),\n",
    "        'condition': lambda x: 'pickaxe' not in x[1]['props']['name'] or x[1]['props']['name'] in [n[1]['props']['name'] for n in inventory_graph.nodes(data=True)] \n",
    "    }\n",
    "}\n",
    "\n",
    "composer = GraphComposer(graphs, linkings, one_to_many_join_graphs, lenses)\n",
    "composer.compose_graphs()\n",
    "\n",
    "composed_graph = composer.get_composed_graph()"
   ]
  },
  {
   "cell_type": "code",
   "execution_count": 6,
   "id": "463c6da0",
   "metadata": {
    "ExecuteTime": {
     "end_time": "2023-05-24T06:52:37.370210600Z",
     "start_time": "2023-05-24T06:51:24.589349800Z"
    }
   },
   "outputs": [],
   "source": [
    "def visualize_graph(graph):\n",
    "    #initialze Figure\n",
    "    plt.figure(num=None, figsize=(80, 80), dpi=300)\n",
    "    plt.axis('off')\n",
    "    fig = plt.figure(1)\n",
    "    pos = nx.spring_layout(graph)\n",
    "    nx.draw_networkx(graph, pos, with_labels=True)\n",
    "    plt.draw()\n",
    "    plt.show()"
   ]
  },
  {
   "cell_type": "code",
   "execution_count": null,
   "id": "57aa7acd",
   "metadata": {},
   "outputs": [],
   "source": [
    "visualize_graph(composed_graph)"
   ]
  },
  {
   "cell_type": "code",
   "execution_count": null,
   "id": "c95bea18",
   "metadata": {},
   "outputs": [
    {
     "data": {
      "text/plain": [
       "['blocks:granite', 'items:granite', 'recipes:2']"
      ]
     },
     "execution_count": 6,
     "metadata": {},
     "output_type": "execute_result"
    }
   ],
   "source": [
    "nx.shortest_path(composed_graph, \"blocks:granite\", \"recipes:2\")\n",
    "#min([composed_graph.degree(x) for x in composed_graph.nodes()])"
   ]
  },
  {
   "cell_type": "code",
   "execution_count": null,
   "id": "4461476c",
   "metadata": {},
   "outputs": [],
   "source": [
    "tree = bfs_subgraph(composed_graph, source='actions:mine')\n",
    "visualize_graph(tree)"
   ]
  },
  {
   "cell_type": "code",
   "execution_count": null,
   "id": "3aa7cf28",
   "metadata": {},
   "outputs": [],
   "source": [
    "tree = bfs_subgraph(composed_graph, source='actions:mine')\n",
    "tree = composer.apply_lenses(['only_inventory_mining_items'], tree)\n",
    "visualize_graph(tree)"
   ]
  },
  {
   "cell_type": "code",
   "execution_count": 10,
   "id": "5e769119",
   "metadata": {},
   "outputs": [
    {
     "ename": "MemoryError",
     "evalue": "",
     "output_type": "error",
     "traceback": [
      "\u001b[1;31m---------------------------------------------------------------------------\u001b[0m",
      "\u001b[1;31mMemoryError\u001b[0m                               Traceback (most recent call last)",
      "Cell \u001b[1;32mIn[10], line 1\u001b[0m\n\u001b[1;32m----> 1\u001b[0m paths \u001b[39m=\u001b[39m dfs_paths(composed_graph, \u001b[39m\"\u001b[39;49m\u001b[39mgoals:make_money\u001b[39;49m\u001b[39m\"\u001b[39;49m)\n\u001b[0;32m      2\u001b[0m paths \u001b[39m=\u001b[39m [path \u001b[39mfor\u001b[39;00m path \u001b[39min\u001b[39;00m paths \u001b[39mif\u001b[39;00m \u001b[39m\"\u001b[39m\u001b[39mtrade:credit\u001b[39m\u001b[39m\"\u001b[39m \u001b[39min\u001b[39;00m path]\n\u001b[0;32m      3\u001b[0m G \u001b[39m=\u001b[39m graph_from_paths(paths)\n",
      "File \u001b[1;32md:\\swarmly-io\\knowledge\\utils.py:61\u001b[0m, in \u001b[0;36mdfs_paths\u001b[1;34m(graph, start, path)\u001b[0m\n\u001b[0;32m     59\u001b[0m \u001b[39mfor\u001b[39;00m neighbor \u001b[39min\u001b[39;00m graph\u001b[39m.\u001b[39mneighbors(start):\n\u001b[0;32m     60\u001b[0m     \u001b[39mif\u001b[39;00m neighbor \u001b[39mnot\u001b[39;00m \u001b[39min\u001b[39;00m path:\n\u001b[1;32m---> 61\u001b[0m         new_paths \u001b[39m=\u001b[39m dfs_paths(graph, neighbor, path)\n\u001b[0;32m     62\u001b[0m         paths\u001b[39m.\u001b[39mextend(new_paths)\n\u001b[0;32m     63\u001b[0m \u001b[39mif\u001b[39;00m \u001b[39mnot\u001b[39;00m paths:  \u001b[39m# Leaf node, add the path to the result\u001b[39;00m\n",
      "File \u001b[1;32md:\\swarmly-io\\knowledge\\utils.py:61\u001b[0m, in \u001b[0;36mdfs_paths\u001b[1;34m(graph, start, path)\u001b[0m\n\u001b[0;32m     59\u001b[0m \u001b[39mfor\u001b[39;00m neighbor \u001b[39min\u001b[39;00m graph\u001b[39m.\u001b[39mneighbors(start):\n\u001b[0;32m     60\u001b[0m     \u001b[39mif\u001b[39;00m neighbor \u001b[39mnot\u001b[39;00m \u001b[39min\u001b[39;00m path:\n\u001b[1;32m---> 61\u001b[0m         new_paths \u001b[39m=\u001b[39m dfs_paths(graph, neighbor, path)\n\u001b[0;32m     62\u001b[0m         paths\u001b[39m.\u001b[39mextend(new_paths)\n\u001b[0;32m     63\u001b[0m \u001b[39mif\u001b[39;00m \u001b[39mnot\u001b[39;00m paths:  \u001b[39m# Leaf node, add the path to the result\u001b[39;00m\n",
      "    \u001b[1;31m[... skipping similar frames: dfs_paths at line 61 (5 times)]\u001b[0m\n",
      "File \u001b[1;32md:\\swarmly-io\\knowledge\\utils.py:61\u001b[0m, in \u001b[0;36mdfs_paths\u001b[1;34m(graph, start, path)\u001b[0m\n\u001b[0;32m     59\u001b[0m \u001b[39mfor\u001b[39;00m neighbor \u001b[39min\u001b[39;00m graph\u001b[39m.\u001b[39mneighbors(start):\n\u001b[0;32m     60\u001b[0m     \u001b[39mif\u001b[39;00m neighbor \u001b[39mnot\u001b[39;00m \u001b[39min\u001b[39;00m path:\n\u001b[1;32m---> 61\u001b[0m         new_paths \u001b[39m=\u001b[39m dfs_paths(graph, neighbor, path)\n\u001b[0;32m     62\u001b[0m         paths\u001b[39m.\u001b[39mextend(new_paths)\n\u001b[0;32m     63\u001b[0m \u001b[39mif\u001b[39;00m \u001b[39mnot\u001b[39;00m paths:  \u001b[39m# Leaf node, add the path to the result\u001b[39;00m\n",
      "File \u001b[1;32md:\\swarmly-io\\knowledge\\utils.py:62\u001b[0m, in \u001b[0;36mdfs_paths\u001b[1;34m(graph, start, path)\u001b[0m\n\u001b[0;32m     60\u001b[0m     \u001b[39mif\u001b[39;00m neighbor \u001b[39mnot\u001b[39;00m \u001b[39min\u001b[39;00m path:\n\u001b[0;32m     61\u001b[0m         new_paths \u001b[39m=\u001b[39m dfs_paths(graph, neighbor, path)\n\u001b[1;32m---> 62\u001b[0m         paths\u001b[39m.\u001b[39;49mextend(new_paths)\n\u001b[0;32m     63\u001b[0m \u001b[39mif\u001b[39;00m \u001b[39mnot\u001b[39;00m paths:  \u001b[39m# Leaf node, add the path to the result\u001b[39;00m\n\u001b[0;32m     64\u001b[0m     paths\u001b[39m.\u001b[39mappend(path)\n",
      "\u001b[1;31mMemoryError\u001b[0m: "
     ]
    }
   ],
   "source": [
    "# I wasn't able to run this...\n",
    "# it maxed out at about 23GB of RAM \n",
    "# and crashed after 30minutes.\n",
    "\n",
    "paths = dfs_paths(composed_graph, \"goals:make_money\")\n",
    "paths = [path for path in paths if \"trade:credit\" in path]\n",
    "G = graph_from_paths(paths)\n",
    "visualize_graph(G)"
   ]
  },
  {
   "cell_type": "code",
   "execution_count": null,
   "id": "00aec84f",
   "metadata": {},
   "outputs": [],
   "source": []
  }
 ],
 "metadata": {
  "kernelspec": {
   "display_name": "venv",
   "language": "python",
   "name": "python3"
  },
  "language_info": {
   "codemirror_mode": {
    "name": "ipython",
    "version": 3
   },
   "file_extension": ".py",
   "mimetype": "text/x-python",
   "name": "python",
   "nbconvert_exporter": "python",
   "pygments_lexer": "ipython3",
   "version": "3.10.11"
  }
 },
 "nbformat": 4,
 "nbformat_minor": 5
}
